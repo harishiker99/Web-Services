{
  "nbformat": 4,
  "nbformat_minor": 0,
  "metadata": {
    "colab": {
      "private_outputs": true,
      "provenance": [],
      "include_colab_link": true
    },
    "kernelspec": {
      "name": "python3",
      "display_name": "Python 3"
    },
    "language_info": {
      "name": "python"
    }
  },
  "cells": [
    {
      "cell_type": "markdown",
      "metadata": {
        "id": "view-in-github",
        "colab_type": "text"
      },
      "source": [
        "<a href=\"https://colab.research.google.com/github/harishiker99/Web-Services/blob/main/Webservices.ipynb\" target=\"_parent\"><img src=\"https://colab.research.google.com/assets/colab-badge.svg\" alt=\"Open In Colab\"/></a>"
      ]
    },
    {
      "cell_type": "code",
      "execution_count": null,
      "metadata": {
        "id": "m2UtBXAsqu1M"
      },
      "outputs": [],
      "source": [
        "!pip install requests\n"
      ]
    },
    {
      "cell_type": "markdown",
      "source": [
        "Part 1: GET Request\n",
        "The GET method requests a representation of the specified resource. Requests using GET should only retrieve data and have no other effect."
      ],
      "metadata": {
        "id": "8w70TnMFt3Up"
      }
    },
    {
      "cell_type": "code",
      "source": [
        "import requests\n",
        "\n",
        "def http_get():\n",
        "    response = requests.get('https://httpbin.org/get')\n",
        "    print(\"GET Request Response:\")\n",
        "    print(response.json())\n",
        "\n",
        "if __name__ == \"__main__\":\n",
        "    http_get()\n"
      ],
      "metadata": {
        "id": "KKa9L40Rt0GG"
      },
      "execution_count": null,
      "outputs": []
    },
    {
      "cell_type": "markdown",
      "source": [
        "Explanation:\n",
        "Import requests: We import the requests library, which is a powerful HTTP library in Python.\n",
        "Define http_get Function: This function uses requests.get to send a GET request to https://httpbin.org/get. httpbin.org is a simple HTTP request and response service.\n",
        "Print Response: The response from the server is printed. response.json() converts the JSON response to a Python dictionary for easy readability."
      ],
      "metadata": {
        "id": "cdHDOqRTt_34"
      }
    },
    {
      "cell_type": "markdown",
      "source": [
        "Part 2: POST Request\n",
        "The POST method is used to submit an entity to the specified resource, often causing a change in state or side effects on the server."
      ],
      "metadata": {
        "id": "aqtzNANtuNq-"
      }
    },
    {
      "cell_type": "code",
      "source": [
        "def http_post():\n",
        "    user_profile = {\n",
        "        'name': 'John Doe',\n",
        "        'email': 'johndoe@example.com',\n",
        "        'occupation': 'Data Scientist'\n",
        "    }\n",
        "    response = requests.post('https://httpbin.org/post', data=user_profile)\n",
        "    print(\"\\nPOST Request Response:\")\n",
        "    print(response.json())\n",
        "\n",
        "if __name__ == \"__main__\":\n",
        "    http_post()\n"
      ],
      "metadata": {
        "id": "VZB1eKAQuD3l"
      },
      "execution_count": null,
      "outputs": []
    },
    {
      "cell_type": "markdown",
      "source": [
        "Explanation:\n",
        "Define http_post Function: This function sends a POST request with some data (user_profile) to https://httpbin.org/post.\n",
        "User Profile: We create a dictionary user_profile that simulates data you might send to a server when creating a new user.\n",
        "Print Response: The server's response is printed, showing how it received the data."
      ],
      "metadata": {
        "id": "Rq64FSBhuSNt"
      }
    },
    {
      "cell_type": "markdown",
      "source": [
        "Part 3: PUT Request\n",
        "The PUT method replaces all current representations of the target resource with the request payload."
      ],
      "metadata": {
        "id": "bQC0kewVucKn"
      }
    },
    {
      "cell_type": "code",
      "source": [
        "def http_put():\n",
        "    updated_profile = {\n",
        "        'name': 'John Doe',\n",
        "        'email': 'john.doe@newdomain.com',\n",
        "        'occupation': 'Senior Data Scientist'\n",
        "    }\n",
        "    response = requests.put('https://httpbin.org/put', data=updated_profile)\n",
        "    print(\"\\nPUT Request Response:\")\n",
        "    print(response.json())\n",
        "\n",
        "if __name__ == \"__main__\":\n",
        "    http_put()"
      ],
      "metadata": {
        "id": "Y-1fXISvuVPo"
      },
      "execution_count": null,
      "outputs": []
    },
    {
      "cell_type": "markdown",
      "source": [
        "Explanation:\n",
        "Define http_put Function: This function sends a PUT request to update the user profile at https://httpbin.org/put.\n",
        "Updated Profile: The updated_profile dictionary simulates an update to the user's data, such as a change in email and occupation.\n",
        "Print Response: Displays how the server processed the updated data."
      ],
      "metadata": {
        "id": "PH136glCur89"
      }
    },
    {
      "cell_type": "markdown",
      "source": [
        "Part 4: DELETE Request\n",
        "The DELETE method deletes the specified resource."
      ],
      "metadata": {
        "id": "Qr5taVq_uyK7"
      }
    },
    {
      "cell_type": "code",
      "source": [
        "def http_delete():\n",
        "    response = requests.delete('https://httpbin.org/delete')\n",
        "    print(\"\\nDELETE Request Response:\")\n",
        "    print(response.json())\n",
        "\n",
        "if __name__ == \"__main__\":\n",
        "    http_delete()\n"
      ],
      "metadata": {
        "id": "ZnQEX1Ztu0U-"
      },
      "execution_count": null,
      "outputs": []
    },
    {
      "cell_type": "markdown",
      "source": [
        "def http_delete():\n",
        "    response = requests.delete('https://httpbin.org/delete')\n",
        "    print(\"\\nDELETE Request Response:\")\n",
        "    print(response.json())\n",
        "\n",
        "if __name__ == \"__main__\":\n",
        "    http_delete()\n"
      ],
      "metadata": {
        "id": "G1KXyjebu5kA"
      }
    },
    {
      "cell_type": "markdown",
      "source": [
        "Full Program Integration\n",
        "When you integrate these parts into a single program, each function can be called one after the other in the if __name__ == \"__main__\": block. This way, you can see the effect of each HTTP method in sequence.\n",
        "\n",
        "You can run this program in a Python environment like Google Colab. Just remember that httpbin.org is a demonstration service and the data you send will not be actually created, updated, or deleted."
      ],
      "metadata": {
        "id": "U-SGhAb1vBYF"
      }
    },
    {
      "cell_type": "code",
      "source": [],
      "metadata": {
        "id": "3h2JzO72utdo"
      },
      "execution_count": null,
      "outputs": []
    }
  ]
}